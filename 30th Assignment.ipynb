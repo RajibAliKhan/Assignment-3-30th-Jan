{
 "cells": [
  {
   "cell_type": "code",
   "execution_count": null,
   "id": "3a384a00-237e-4999-8269-2d3bf100fd78",
   "metadata": {},
   "outputs": [],
   "source": [
    "A1. "
   ]
  },
  {
   "cell_type": "code",
   "execution_count": 12,
   "id": "70ee1e3f-5d96-4f11-bcef-0235c06b155c",
   "metadata": {},
   "outputs": [
    {
     "name": "stdin",
     "output_type": "stream",
     "text": [
      "Enter your marks 60\n"
     ]
    },
    {
     "name": "stdout",
     "output_type": "stream",
     "text": [
      "Grade C\n"
     ]
    }
   ],
   "source": [
    "marks = int(input(\"Enter your marks\"))\n",
    "if marks > 90 :\n",
    "    print(\"Grade_A\")\n",
    "elif marks >= 80 and marks <= 90 :\n",
    "    print(\"Grade_B\")\n",
    "elif marks >= 60 and marks <= 80 :\n",
    "    print(\"Grade_C\")\n",
    "else :\n",
    "    print(\"Grade_D\")"
   ]
  },
  {
   "cell_type": "code",
   "execution_count": null,
   "id": "1109688b-3216-4942-a6c8-c0844665e466",
   "metadata": {},
   "outputs": [],
   "source": [
    "A2."
   ]
  },
  {
   "cell_type": "code",
   "execution_count": 13,
   "id": "c6257f28-ad1a-44c5-9399-37eb9f99297c",
   "metadata": {},
   "outputs": [
    {
     "name": "stdin",
     "output_type": "stream",
     "text": [
      "Enter your cost price 58000\n"
     ]
    },
    {
     "name": "stdout",
     "output_type": "stream",
     "text": [
      "Tax will be 10%\n"
     ]
    }
   ],
   "source": [
    "cost_price = int(input(\"Enter your cost price\"))\n",
    "if cost_price > 100000 :\n",
    "    print(\"Tax will be 15%\")\n",
    "elif cost_price >50000 and cost_price <= 100000 :\n",
    "    print(\"Tax will be 10%\")\n",
    "elif cost_price <= 50000 :\n",
    "    print(\"Tax will be 5%\")"
   ]
  },
  {
   "cell_type": "code",
   "execution_count": null,
   "id": "17ed9e0d-31cb-4cb9-b8ff-71d8cdba69a2",
   "metadata": {},
   "outputs": [],
   "source": [
    "A3."
   ]
  },
  {
   "cell_type": "code",
   "execution_count": 2,
   "id": "5b672bd1-9280-4608-b5c0-14892081d4a7",
   "metadata": {},
   "outputs": [
    {
     "name": "stdin",
     "output_type": "stream",
     "text": [
      "Enter your city name Agra\n"
     ]
    },
    {
     "name": "stdout",
     "output_type": "stream",
     "text": [
      "The monument name is Taj Mahal\n"
     ]
    }
   ],
   "source": [
    "city = input(\"Enter your city name\")\n",
    "if city == \"Delhi\" :\n",
    "    print(\"The monument name is Red Fort\")\n",
    "elif city == \"Agra\" :\n",
    "    print(\"The monument name is Taj Mahal\")\n",
    "elif city == \"Jaipur\" :\n",
    "    print(\"The monument name is Jal Mahal\")"
   ]
  },
  {
   "cell_type": "code",
   "execution_count": null,
   "id": "ab026d03-d591-469a-b482-eb0cb09936e6",
   "metadata": {},
   "outputs": [],
   "source": [
    "A4."
   ]
  },
  {
   "cell_type": "code",
   "execution_count": 7,
   "id": "72894c62-5a17-44ab-8fb3-d7f6006065f5",
   "metadata": {},
   "outputs": [
    {
     "name": "stdin",
     "output_type": "stream",
     "text": [
      "Enter a number 99\n"
     ]
    },
    {
     "name": "stdout",
     "output_type": "stream",
     "text": [
      "The given number can be divided by 3 3 times\n"
     ]
    }
   ],
   "source": [
    "num = int(input(\"Enter a number\"))\n",
    "count = 0\n",
    "while num >= 10 :\n",
    "    num = num // 3\n",
    "    count += 1\n",
    "print(\"The given number can be divided by 3\", count, \"times\")"
   ]
  },
  {
   "cell_type": "code",
   "execution_count": null,
   "id": "13d6d6e3-4e8f-4438-81fc-9531dcc12d67",
   "metadata": {},
   "outputs": [],
   "source": [
    "A5."
   ]
  },
  {
   "cell_type": "code",
   "execution_count": null,
   "id": "089f0624-29a6-4773-89c1-2c1c32767f4e",
   "metadata": {},
   "outputs": [],
   "source": [
    "While loop is used when the given condition is True. \n",
    "Then only it will go to the next step. \n",
    "This loop will executed till then the condition is True.\n",
    "Example - "
   ]
  },
  {
   "cell_type": "code",
   "execution_count": 6,
   "id": "dc351a9a-31cf-462a-92b1-64e5aef8458b",
   "metadata": {},
   "outputs": [
    {
     "name": "stdout",
     "output_type": "stream",
     "text": [
      "1\n",
      "2\n",
      "3\n",
      "4\n",
      "5\n",
      "6\n",
      "7\n",
      "8\n",
      "9\n",
      "10\n"
     ]
    }
   ],
   "source": [
    "a = 1\n",
    "while a <= 10 :\n",
    "    print(a)\n",
    "    a = a + 1"
   ]
  },
  {
   "cell_type": "code",
   "execution_count": null,
   "id": "38665013-9f5a-4ae4-98b4-9aa9ef8aa5e0",
   "metadata": {},
   "outputs": [],
   "source": [
    "A7."
   ]
  },
  {
   "cell_type": "code",
   "execution_count": 4,
   "id": "e2871e52-6de0-4ac8-8fca-78022579770e",
   "metadata": {},
   "outputs": [
    {
     "name": "stdout",
     "output_type": "stream",
     "text": [
      "10\n",
      "9\n",
      "8\n",
      "7\n",
      "6\n",
      "5\n",
      "4\n",
      "3\n",
      "2\n",
      "1\n"
     ]
    }
   ],
   "source": [
    "i = 10\n",
    "while i >= 1:\n",
    "    print(i)\n",
    "    i -= 1"
   ]
  },
  {
   "cell_type": "code",
   "execution_count": null,
   "id": "8909a67c-931a-48e5-a3a8-098ea0220f6b",
   "metadata": {},
   "outputs": [],
   "source": [
    "A8."
   ]
  },
  {
   "cell_type": "code",
   "execution_count": 6,
   "id": "e63b7c38-6d57-4e86-8e61-f6897f7de598",
   "metadata": {},
   "outputs": [
    {
     "name": "stdout",
     "output_type": "stream",
     "text": [
      "10\n",
      "9\n",
      "8\n",
      "7\n",
      "6\n",
      "5\n",
      "4\n",
      "3\n",
      "2\n",
      "1\n"
     ]
    }
   ],
   "source": [
    "i = 10\n",
    "while i >= 1:\n",
    "    print(i)\n",
    "    i -= 1"
   ]
  },
  {
   "cell_type": "code",
   "execution_count": null,
   "id": "ceb5183e-1aed-40b7-bcc5-fa2e890961ec",
   "metadata": {},
   "outputs": [],
   "source": []
  }
 ],
 "metadata": {
  "kernelspec": {
   "display_name": "Python 3 (ipykernel)",
   "language": "python",
   "name": "python3"
  },
  "language_info": {
   "codemirror_mode": {
    "name": "ipython",
    "version": 3
   },
   "file_extension": ".py",
   "mimetype": "text/x-python",
   "name": "python",
   "nbconvert_exporter": "python",
   "pygments_lexer": "ipython3",
   "version": "3.10.8"
  }
 },
 "nbformat": 4,
 "nbformat_minor": 5
}
